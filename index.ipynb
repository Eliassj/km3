{
  "cells": [
    {
      "cell_type": "markdown",
      "metadata": {},
      "source": [
        "# Preface {.unnumbered}\n",
        "  -- like ipython, R, bash\n",
        "\n",
        "This is a Quarto book.\n",
        "\n",
        "To learn more about Quarto books visit <https://quarto.org/docs/books>.\n",
        "\n",
        "\n",
        "\n",
        "```{julia}\n",
        "\n",
        "\n",
        "```\n",
        "\n",
        "\n",
        "\n",
        "* ett\n",
        "  * två?"
      ],
      "id": "0606175e"
    }
  ],
  "metadata": {
    "kernelspec": {
      "display_name": "Python 3",
      "language": "python",
      "name": "python3"
    }
  },
  "nbformat": 4,
  "nbformat_minor": 5
}